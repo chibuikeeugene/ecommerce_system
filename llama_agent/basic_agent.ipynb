{
 "cells": [
  {
   "cell_type": "code",
   "execution_count": 2,
   "id": "261448c3",
   "metadata": {},
   "outputs": [
    {
     "name": "stderr",
     "output_type": "stream",
     "text": [
      "/Users/chibuikeiwuchukwu/Docs/Real_ML_Project/ecommerce_system/ecomm_env/lib/python3.9/site-packages/tqdm/auto.py:21: TqdmWarning: IProgress not found. Please update jupyter and ipywidgets. See https://ipywidgets.readthedocs.io/en/stable/user_install.html\n",
      "  from .autonotebook import tqdm as notebook_tqdm\n"
     ]
    }
   ],
   "source": [
    "# import the relevant libraries\n",
    "import os\n",
    "from dotenv import load_dotenv\n",
    "from llama_index.llms.huggingface_api import HuggingFaceInferenceAPI"
   ]
  },
  {
   "cell_type": "code",
   "execution_count": 3,
   "id": "b8bd86d7",
   "metadata": {},
   "outputs": [],
   "source": [
    "# Loading environment variables\n",
    "load_dotenv()\n",
    "\n",
    "HF_TOKEN =  os.getenv('HF_TOKEN')"
   ]
  },
  {
   "cell_type": "code",
   "execution_count": 4,
   "id": "181f515f",
   "metadata": {},
   "outputs": [
    {
     "name": "stdout",
     "output_type": "stream",
     "text": [
      "I'm just a computer program, so I don't have feelings, but I'm here and ready to help you with whatever you need! How can I assist you today?\n"
     ]
    }
   ],
   "source": [
    "# implementing a basic text completion\n",
    "llm = HuggingFaceInferenceAPI(\n",
    "    model =  \"Qwen/Qwen2.5-Coder-32B-Instruct\",\n",
    "    temperature = 0.7,\n",
    "    max_tokens = 200,\n",
    "    token = HF_TOKEN,\n",
    ")\n",
    "\n",
    "output = llm.complete('How are you doing?')\n",
    "print(output)"
   ]
  },
  {
   "cell_type": "markdown",
   "id": "3a34dad7",
   "metadata": {},
   "source": [
    "## Creating a RAG Pipeline using Components from LlamaIndex"
   ]
  },
  {
   "cell_type": "code",
   "execution_count": null,
   "id": "09ee0e62",
   "metadata": {},
   "outputs": [],
   "source": [
    "from llama_index.core import SimpleDirectoryReader"
   ]
  }
 ],
 "metadata": {
  "kernelspec": {
   "display_name": "ecomm_env",
   "language": "python",
   "name": "python3"
  },
  "language_info": {
   "codemirror_mode": {
    "name": "ipython",
    "version": 3
   },
   "file_extension": ".py",
   "mimetype": "text/x-python",
   "name": "python",
   "nbconvert_exporter": "python",
   "pygments_lexer": "ipython3",
   "version": "3.9.22"
  }
 },
 "nbformat": 4,
 "nbformat_minor": 5
}
